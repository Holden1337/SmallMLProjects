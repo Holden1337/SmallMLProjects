{
 "cells": [
  {
   "cell_type": "code",
   "execution_count": 161,
   "id": "3ccdc969-10d5-42e7-b2fa-7875d261446e",
   "metadata": {},
   "outputs": [],
   "source": [
    "from jupyterthemes import get_themes\n",
    "import jupyterthemes as jt\n",
    "from jupyterthemes.stylefx import set_nb_theme\n",
    "#set_nb_theme('onedork')"
   ]
  },
  {
   "cell_type": "code",
   "execution_count": 162,
   "id": "f74031a9-8ecc-46c9-afee-5b5a31666fe8",
   "metadata": {},
   "outputs": [
    {
     "name": "stdout",
     "output_type": "stream",
     "text": [
      "Setup Complete\n"
     ]
    }
   ],
   "source": [
    "import pandas as pd\n",
    "pd.plotting.register_matplotlib_converters()\n",
    "import matplotlib.pyplot as plt\n",
    "%matplotlib inline\n",
    "import numpy as np\n",
    "import seaborn as sns\n",
    "from scipy import stats\n",
    "print(\"Setup Complete\")"
   ]
  },
  {
   "cell_type": "markdown",
   "id": "c95bb868-07a9-4156-b0b6-093e8e26eef6",
   "metadata": {},
   "source": [
    "# This project will be looking at data from the US census bureau and training a classification model to predict whether someone makes more or less than 50,000 a year"
   ]
  },
  {
   "cell_type": "markdown",
   "id": "0b52e323-75ed-4ecb-a187-e542aa1bb334",
   "metadata": {},
   "source": [
    "## Read data"
   ]
  },
  {
   "cell_type": "code",
   "execution_count": 227,
   "id": "b6ebe6d8-d6c4-48b3-a5a5-1416af3680cc",
   "metadata": {},
   "outputs": [],
   "source": [
    "path = 'adult.data.csv'\n",
    "data = pd.read_csv(path)\n",
    "\n",
    "# when reading the data in at first on of the rows is made into the columns so we need to fix that\n",
    "col_dict = {'39': 'Age',\n",
    "            ' State-gov': 'workclass',\n",
    "            ' 77516': 'fnlwgt',\n",
    "            ' Bachelors': 'education',\n",
    "            ' 13':'education-num',\n",
    "            ' Never-married': 'marital-status',\n",
    "            ' Adm-clerical': 'occupation',\n",
    "            ' Not-in-family': 'relationship',\n",
    "            ' White': 'race',\n",
    "            ' Male': 'sex',\n",
    "            ' 2174': 'capital-gain',\n",
    "            ' 0': 'capital-loss',\n",
    "            ' 40': 'hours-per-week',\n",
    "            ' United-States': 'native-country',\n",
    "            ' <=50K': 'income'}\n",
    "data = data.rename(columns=col_dict)"
   ]
  },
  {
   "cell_type": "code",
   "execution_count": 228,
   "id": "f4129306-cab6-4bb5-8ea1-131577a17818",
   "metadata": {},
   "outputs": [],
   "source": [
    "#make target variable quantitative instead of categorical\n",
    "data['income'].replace({' <=50K': 0, ' >50K': 1}, inplace=True)"
   ]
  },
  {
   "cell_type": "markdown",
   "id": "08cb9422-30b6-4ce0-a5af-d5ae39ff4c51",
   "metadata": {},
   "source": [
    "# Getting some preliminary info about the data"
   ]
  },
  {
   "cell_type": "code",
   "execution_count": 229,
   "id": "375d9d36-ff7a-4982-ba00-549440059601",
   "metadata": {},
   "outputs": [
    {
     "data": {
      "text/html": [
       "<div>\n",
       "<style scoped>\n",
       "    .dataframe tbody tr th:only-of-type {\n",
       "        vertical-align: middle;\n",
       "    }\n",
       "\n",
       "    .dataframe tbody tr th {\n",
       "        vertical-align: top;\n",
       "    }\n",
       "\n",
       "    .dataframe thead th {\n",
       "        text-align: right;\n",
       "    }\n",
       "</style>\n",
       "<table border=\"1\" class=\"dataframe\">\n",
       "  <thead>\n",
       "    <tr style=\"text-align: right;\">\n",
       "      <th></th>\n",
       "      <th>Age</th>\n",
       "      <th>workclass</th>\n",
       "      <th>fnlwgt</th>\n",
       "      <th>education</th>\n",
       "      <th>education-num</th>\n",
       "      <th>marital-status</th>\n",
       "      <th>occupation</th>\n",
       "      <th>relationship</th>\n",
       "      <th>race</th>\n",
       "      <th>sex</th>\n",
       "      <th>capital-gain</th>\n",
       "      <th>capital-loss</th>\n",
       "      <th>hours-per-week</th>\n",
       "      <th>native-country</th>\n",
       "      <th>income</th>\n",
       "    </tr>\n",
       "  </thead>\n",
       "  <tbody>\n",
       "    <tr>\n",
       "      <th>0</th>\n",
       "      <td>50</td>\n",
       "      <td>Self-emp-not-inc</td>\n",
       "      <td>83311</td>\n",
       "      <td>Bachelors</td>\n",
       "      <td>13</td>\n",
       "      <td>Married-civ-spouse</td>\n",
       "      <td>Exec-managerial</td>\n",
       "      <td>Husband</td>\n",
       "      <td>White</td>\n",
       "      <td>Male</td>\n",
       "      <td>0</td>\n",
       "      <td>0</td>\n",
       "      <td>13</td>\n",
       "      <td>United-States</td>\n",
       "      <td>0</td>\n",
       "    </tr>\n",
       "    <tr>\n",
       "      <th>1</th>\n",
       "      <td>38</td>\n",
       "      <td>Private</td>\n",
       "      <td>215646</td>\n",
       "      <td>HS-grad</td>\n",
       "      <td>9</td>\n",
       "      <td>Divorced</td>\n",
       "      <td>Handlers-cleaners</td>\n",
       "      <td>Not-in-family</td>\n",
       "      <td>White</td>\n",
       "      <td>Male</td>\n",
       "      <td>0</td>\n",
       "      <td>0</td>\n",
       "      <td>40</td>\n",
       "      <td>United-States</td>\n",
       "      <td>0</td>\n",
       "    </tr>\n",
       "    <tr>\n",
       "      <th>2</th>\n",
       "      <td>53</td>\n",
       "      <td>Private</td>\n",
       "      <td>234721</td>\n",
       "      <td>11th</td>\n",
       "      <td>7</td>\n",
       "      <td>Married-civ-spouse</td>\n",
       "      <td>Handlers-cleaners</td>\n",
       "      <td>Husband</td>\n",
       "      <td>Black</td>\n",
       "      <td>Male</td>\n",
       "      <td>0</td>\n",
       "      <td>0</td>\n",
       "      <td>40</td>\n",
       "      <td>United-States</td>\n",
       "      <td>0</td>\n",
       "    </tr>\n",
       "    <tr>\n",
       "      <th>3</th>\n",
       "      <td>28</td>\n",
       "      <td>Private</td>\n",
       "      <td>338409</td>\n",
       "      <td>Bachelors</td>\n",
       "      <td>13</td>\n",
       "      <td>Married-civ-spouse</td>\n",
       "      <td>Prof-specialty</td>\n",
       "      <td>Wife</td>\n",
       "      <td>Black</td>\n",
       "      <td>Female</td>\n",
       "      <td>0</td>\n",
       "      <td>0</td>\n",
       "      <td>40</td>\n",
       "      <td>Cuba</td>\n",
       "      <td>0</td>\n",
       "    </tr>\n",
       "    <tr>\n",
       "      <th>4</th>\n",
       "      <td>37</td>\n",
       "      <td>Private</td>\n",
       "      <td>284582</td>\n",
       "      <td>Masters</td>\n",
       "      <td>14</td>\n",
       "      <td>Married-civ-spouse</td>\n",
       "      <td>Exec-managerial</td>\n",
       "      <td>Wife</td>\n",
       "      <td>White</td>\n",
       "      <td>Female</td>\n",
       "      <td>0</td>\n",
       "      <td>0</td>\n",
       "      <td>40</td>\n",
       "      <td>United-States</td>\n",
       "      <td>0</td>\n",
       "    </tr>\n",
       "  </tbody>\n",
       "</table>\n",
       "</div>"
      ],
      "text/plain": [
       "   Age          workclass  fnlwgt   education  education-num  \\\n",
       "0   50   Self-emp-not-inc   83311   Bachelors             13   \n",
       "1   38            Private  215646     HS-grad              9   \n",
       "2   53            Private  234721        11th              7   \n",
       "3   28            Private  338409   Bachelors             13   \n",
       "4   37            Private  284582     Masters             14   \n",
       "\n",
       "        marital-status          occupation    relationship    race      sex  \\\n",
       "0   Married-civ-spouse     Exec-managerial         Husband   White     Male   \n",
       "1             Divorced   Handlers-cleaners   Not-in-family   White     Male   \n",
       "2   Married-civ-spouse   Handlers-cleaners         Husband   Black     Male   \n",
       "3   Married-civ-spouse      Prof-specialty            Wife   Black   Female   \n",
       "4   Married-civ-spouse     Exec-managerial            Wife   White   Female   \n",
       "\n",
       "   capital-gain  capital-loss  hours-per-week  native-country  income  \n",
       "0             0             0              13   United-States       0  \n",
       "1             0             0              40   United-States       0  \n",
       "2             0             0              40   United-States       0  \n",
       "3             0             0              40            Cuba       0  \n",
       "4             0             0              40   United-States       0  "
      ]
     },
     "execution_count": 229,
     "metadata": {},
     "output_type": "execute_result"
    }
   ],
   "source": [
    "data.head()"
   ]
  },
  {
   "cell_type": "code",
   "execution_count": 230,
   "id": "b355365c-7707-4a2c-9fa5-8ece3e771d25",
   "metadata": {},
   "outputs": [
    {
     "data": {
      "text/html": [
       "<div>\n",
       "<style scoped>\n",
       "    .dataframe tbody tr th:only-of-type {\n",
       "        vertical-align: middle;\n",
       "    }\n",
       "\n",
       "    .dataframe tbody tr th {\n",
       "        vertical-align: top;\n",
       "    }\n",
       "\n",
       "    .dataframe thead th {\n",
       "        text-align: right;\n",
       "    }\n",
       "</style>\n",
       "<table border=\"1\" class=\"dataframe\">\n",
       "  <thead>\n",
       "    <tr style=\"text-align: right;\">\n",
       "      <th></th>\n",
       "      <th>Age</th>\n",
       "      <th>fnlwgt</th>\n",
       "      <th>education-num</th>\n",
       "      <th>capital-gain</th>\n",
       "      <th>capital-loss</th>\n",
       "      <th>hours-per-week</th>\n",
       "      <th>income</th>\n",
       "    </tr>\n",
       "  </thead>\n",
       "  <tbody>\n",
       "    <tr>\n",
       "      <th>count</th>\n",
       "      <td>32560.000000</td>\n",
       "      <td>3.256000e+04</td>\n",
       "      <td>32560.000000</td>\n",
       "      <td>32560.000000</td>\n",
       "      <td>32560.000000</td>\n",
       "      <td>32560.000000</td>\n",
       "      <td>32560.000000</td>\n",
       "    </tr>\n",
       "    <tr>\n",
       "      <th>mean</th>\n",
       "      <td>38.581634</td>\n",
       "      <td>1.897818e+05</td>\n",
       "      <td>10.080590</td>\n",
       "      <td>1077.615172</td>\n",
       "      <td>87.306511</td>\n",
       "      <td>40.437469</td>\n",
       "      <td>0.240817</td>\n",
       "    </tr>\n",
       "    <tr>\n",
       "      <th>std</th>\n",
       "      <td>13.640642</td>\n",
       "      <td>1.055498e+05</td>\n",
       "      <td>2.572709</td>\n",
       "      <td>7385.402999</td>\n",
       "      <td>402.966116</td>\n",
       "      <td>12.347618</td>\n",
       "      <td>0.427586</td>\n",
       "    </tr>\n",
       "    <tr>\n",
       "      <th>min</th>\n",
       "      <td>17.000000</td>\n",
       "      <td>1.228500e+04</td>\n",
       "      <td>1.000000</td>\n",
       "      <td>0.000000</td>\n",
       "      <td>0.000000</td>\n",
       "      <td>1.000000</td>\n",
       "      <td>0.000000</td>\n",
       "    </tr>\n",
       "    <tr>\n",
       "      <th>25%</th>\n",
       "      <td>28.000000</td>\n",
       "      <td>1.178315e+05</td>\n",
       "      <td>9.000000</td>\n",
       "      <td>0.000000</td>\n",
       "      <td>0.000000</td>\n",
       "      <td>40.000000</td>\n",
       "      <td>0.000000</td>\n",
       "    </tr>\n",
       "    <tr>\n",
       "      <th>50%</th>\n",
       "      <td>37.000000</td>\n",
       "      <td>1.783630e+05</td>\n",
       "      <td>10.000000</td>\n",
       "      <td>0.000000</td>\n",
       "      <td>0.000000</td>\n",
       "      <td>40.000000</td>\n",
       "      <td>0.000000</td>\n",
       "    </tr>\n",
       "    <tr>\n",
       "      <th>75%</th>\n",
       "      <td>48.000000</td>\n",
       "      <td>2.370545e+05</td>\n",
       "      <td>12.000000</td>\n",
       "      <td>0.000000</td>\n",
       "      <td>0.000000</td>\n",
       "      <td>45.000000</td>\n",
       "      <td>0.000000</td>\n",
       "    </tr>\n",
       "    <tr>\n",
       "      <th>max</th>\n",
       "      <td>90.000000</td>\n",
       "      <td>1.484705e+06</td>\n",
       "      <td>16.000000</td>\n",
       "      <td>99999.000000</td>\n",
       "      <td>4356.000000</td>\n",
       "      <td>99.000000</td>\n",
       "      <td>1.000000</td>\n",
       "    </tr>\n",
       "  </tbody>\n",
       "</table>\n",
       "</div>"
      ],
      "text/plain": [
       "                Age        fnlwgt  education-num  capital-gain  capital-loss  \\\n",
       "count  32560.000000  3.256000e+04   32560.000000  32560.000000  32560.000000   \n",
       "mean      38.581634  1.897818e+05      10.080590   1077.615172     87.306511   \n",
       "std       13.640642  1.055498e+05       2.572709   7385.402999    402.966116   \n",
       "min       17.000000  1.228500e+04       1.000000      0.000000      0.000000   \n",
       "25%       28.000000  1.178315e+05       9.000000      0.000000      0.000000   \n",
       "50%       37.000000  1.783630e+05      10.000000      0.000000      0.000000   \n",
       "75%       48.000000  2.370545e+05      12.000000      0.000000      0.000000   \n",
       "max       90.000000  1.484705e+06      16.000000  99999.000000   4356.000000   \n",
       "\n",
       "       hours-per-week        income  \n",
       "count    32560.000000  32560.000000  \n",
       "mean        40.437469      0.240817  \n",
       "std         12.347618      0.427586  \n",
       "min          1.000000      0.000000  \n",
       "25%         40.000000      0.000000  \n",
       "50%         40.000000      0.000000  \n",
       "75%         45.000000      0.000000  \n",
       "max         99.000000      1.000000  "
      ]
     },
     "execution_count": 230,
     "metadata": {},
     "output_type": "execute_result"
    }
   ],
   "source": [
    "data.describe()"
   ]
  },
  {
   "cell_type": "code",
   "execution_count": 231,
   "id": "14d88000-6c4b-4a55-a214-5293151322ce",
   "metadata": {},
   "outputs": [],
   "source": [
    "# making sure each column with some unknown data has different labels for unknowns\n",
    "data['workclass'] = data['workclass'].replace(' ?', value='unknown')\n",
    "data['native-country'] = data['native-country'].replace(' ?', value='mystery')"
   ]
  },
  {
   "cell_type": "markdown",
   "id": "6b2ac173-af81-427c-b2af-f6407bb74356",
   "metadata": {},
   "source": [
    "## The test data has some formatting problems we are going to fix here to make it match the training data"
   ]
  },
  {
   "cell_type": "code",
   "execution_count": 232,
   "id": "abe93980-4e12-4574-8288-3fbd3863102d",
   "metadata": {},
   "outputs": [],
   "source": [
    "test_path = 'adult.test.csv'\n",
    "test = pd.read_csv(test_path)"
   ]
  },
  {
   "cell_type": "code",
   "execution_count": 233,
   "id": "3bff5d27-450c-4958-8f8d-ab9c394dd91b",
   "metadata": {},
   "outputs": [],
   "source": [
    "columns = ['Age',\n",
    "           'workclass',\n",
    "           'fnlwgt',\n",
    "           'education',\n",
    "           'education-num',\n",
    "           'marital-status',\n",
    "           'occupation',\n",
    "           'relationship',\n",
    "           'race',\n",
    "           'sex',\n",
    "           'capital-gain',\n",
    "           'capital-loss',\n",
    "           'hours-per-week',\n",
    "           'native-country',\n",
    "           'income']"
   ]
  },
  {
   "cell_type": "code",
   "execution_count": 234,
   "id": "8941bf4c-9b8d-4d01-aafd-527d56b71215",
   "metadata": {},
   "outputs": [],
   "source": [
    "import warnings\n",
    "warnings.filterwarnings(\"ignore\") #since we get a bunch of warnings for using append\n",
    "test_df = pd.DataFrame()\n",
    "for i in range(0,len(test)):\n",
    "    idx_lst = list(test.index[i])\n",
    "    idx_lst.append(test.iloc[i]['|1x3 Cross validator'])\n",
    "    row = dict(zip(columns, idx_lst))\n",
    "    test_df = test_df.append(row, ignore_index=True)\n",
    "        \n",
    "test_df['income'].replace({' <=50K.': '0', ' >50K.': 1}, inplace=True)"
   ]
  },
  {
   "cell_type": "code",
   "execution_count": 235,
   "id": "c6551aaa-7042-45e7-bd94-d75ea069bd52",
   "metadata": {},
   "outputs": [],
   "source": [
    "test_df['native-country'] = test_df['native-country'].replace(' ?', value='mystery')\n",
    "test_df['workclass'] = test_df['workclass'].replace(' ?', value='unknown')"
   ]
  },
  {
   "cell_type": "code",
   "execution_count": 236,
   "id": "e1a7c72c-46af-477d-b23b-7dc1140d5b92",
   "metadata": {},
   "outputs": [
    {
     "data": {
      "text/plain": [
       "<AxesSubplot: xlabel='Age', ylabel='Count'>"
      ]
     },
     "execution_count": 236,
     "metadata": {},
     "output_type": "execute_result"
    },
    {
     "data": {
      "image/png": "[encoded data removed]",
      "text/plain": [
       "<Figure size 640x480 with 1 Axes>"
      ]
     },
     "metadata": {},
     "output_type": "display_data"
    }
   ],
   "source": [
    "# doing some visualization between age and income\n",
    "sns.histplot(data=data, x='Age', hue='income', multiple='stack')"
   ]
  },
  {
   "cell_type": "code",
   "execution_count": 237,
   "id": "493761ef-93cf-4600-ae09-fdfd95000b1b",
   "metadata": {},
   "outputs": [
    {
     "data": {
      "text/plain": [
       "<AxesSubplot: xlabel='fnlwgt', ylabel='Count'>"
      ]
     },
     "execution_count": 237,
     "metadata": {},
     "output_type": "execute_result"
    },
    {
     "data": {
      "image/png": "[encoded data removed]",
      "text/plain": [
       "<Figure size 640x480 with 1 Axes>"
      ]
     },
     "metadata": {},
     "output_type": "display_data"
    }
   ],
   "source": [
    "# doing some visualization between age and income\n",
    "sns.histplot(data=data, x='fnlwgt', hue='income', multiple='stack')"
   ]
  },
  {
   "cell_type": "markdown",
   "id": "e24e72b3-57e8-49df-8006-662d355fa44b",
   "metadata": {},
   "source": [
    "# fnlwgt does not seem to influence income a lot so we will most likely drop this later"
   ]
  },
  {
   "cell_type": "code",
   "execution_count": 238,
   "id": "8c5b6a73-7a53-49c7-868a-40f683aa50ce",
   "metadata": {},
   "outputs": [],
   "source": [
    "# we will make a function to add a second column to the value_counts() dataframe with the perentage of each category \n",
    "# earning over 50,000 a year\n",
    "def fetch_percent(df, column):\n",
    "    temp = df[column].value_counts()\n",
    "    temp = pd.DataFrame(temp)\n",
    "    values = list(temp.index)\n",
    "    l = []\n",
    "    for value in values:\n",
    "        value_df = df[df[column] == value]\n",
    "        percentage = round(sum(list(df[df[column] == value]['income']))/len(data[data[column] == value]), 3) * 100\n",
    "        l.append(percentage)\n",
    "    temp['Percent over 50k'] = l\n",
    "    return temp"
   ]
  },
  {
   "cell_type": "markdown",
   "id": "c148ee38-41c8-42ff-b3a1-20ed4eda7782",
   "metadata": {},
   "source": [
    "# Now we will start trying to simplify the data by lowering the amount of values certain categorical values can take. We'll start with countries"
   ]
  },
  {
   "cell_type": "code",
   "execution_count": 239,
   "id": "d7a7fb14-1399-4e0e-ac11-2ac189282c34",
   "metadata": {},
   "outputs": [
    {
     "name": "stdout",
     "output_type": "stream",
     "text": [
      "                             native-country  Percent over 50k\n",
      " United-States                        29169              24.6\n",
      " Mexico                                 643               5.1\n",
      "mystery                                 583              25.0\n",
      " Philippines                            198              30.8\n",
      " Germany                                137              32.1\n",
      " Canada                                 121              32.2\n",
      " Puerto-Rico                            114              10.5\n",
      " El-Salvador                            106               8.5\n",
      " India                                  100              40.0\n",
      " Cuba                                    95              26.3\n",
      " England                                 90              33.3\n",
      " Jamaica                                 81              12.3\n",
      " South                                   80              20.0\n",
      " China                                   75              26.7\n",
      " Italy                                   73              34.2\n",
      " Dominican-Republic                      70               2.9\n",
      " Vietnam                                 67               7.5\n",
      " Guatemala                               64               4.7\n",
      " Japan                                   62              38.7\n",
      " Poland                                  60              20.0\n",
      " Columbia                                59               3.4\n",
      " Taiwan                                  51              39.2\n",
      " Haiti                                   44               9.1\n",
      " Iran                                    43              41.9\n",
      " Portugal                                37              10.8\n",
      " Nicaragua                               34               5.9\n",
      " Peru                                    31               6.5\n",
      " France                                  29              41.4\n",
      " Greece                                  29              27.6\n",
      " Ecuador                                 28              14.3\n",
      " Ireland                                 24              20.8\n",
      " Hong                                    20              30.0\n",
      " Cambodia                                19              36.8\n",
      " Trinadad&Tobago                         19              10.5\n",
      " Laos                                    18              11.1\n",
      " Thailand                                18              16.7\n",
      " Yugoslavia                              16              37.5\n",
      " Outlying-US(Guam-USVI-etc)              14               0.0\n",
      " Honduras                                13               7.7\n",
      " Hungary                                 13              23.1\n",
      " Scotland                                12              25.0\n",
      " Holand-Netherlands                       1               0.0\n"
     ]
    }
   ],
   "source": [
    "print(fetch_percent(data, 'native-country'))"
   ]
  },
  {
   "cell_type": "code",
   "execution_count": 240,
   "id": "81814263-891b-49c2-b3cf-ef0729c08b06",
   "metadata": {},
   "outputs": [],
   "source": [
    "country_df = fetch_percent(data, 'native-country')\n",
    "data = data.replace(' United-States', value='United-States')\n",
    "wealthy_countries = list(country_df[country_df['Percent over 50k'].between(24,100)].index)\n",
    "wealthy_countries.remove(' United-States')\n",
    "middle_countries = list(country_df[country_df['Percent over 50k'].between(12,24)].index)\n",
    "poor_countries = list(country_df[country_df['Percent over 50k'].between(0,12)].index)"
   ]
  },
  {
   "cell_type": "code",
   "execution_count": 241,
   "id": "145878d2-0b3f-4ce4-9393-260bd46ecb5f",
   "metadata": {},
   "outputs": [],
   "source": [
    "def df_replace(df, lst, replace_value=None):\n",
    "    if replace_value is None:\n",
    "        return None\n",
    "    for item in lst:\n",
    "        df = df.replace(item, value=replace_value)\n",
    "    return df\n",
    "    "
   ]
  },
  {
   "cell_type": "code",
   "execution_count": 242,
   "id": "af85e422-abfa-48fb-ace8-74eb17372d2c",
   "metadata": {},
   "outputs": [
    {
     "name": "stdout",
     "output_type": "stream",
     "text": [
      "                 native-country  Percent over 50k\n",
      "United-States             29169              24.6\n",
      "Foreign-wealthy            1753              30.5\n",
      "Foreign-poor               1334               6.2\n",
      "Foreign-middle              304              17.4\n"
     ]
    }
   ],
   "source": [
    "data = df_replace(data, wealthy_countries, replace_value='Foreign-wealthy')\n",
    "data = df_replace(data, middle_countries, replace_value='Foreign-middle')\n",
    "data = df_replace(data, poor_countries, replace_value='Foreign-poor')\n",
    "print(fetch_percent(data, 'native-country'))"
   ]
  },
  {
   "cell_type": "markdown",
   "id": "a4f449d2-b994-4d10-b34e-b53b6e787c71",
   "metadata": {},
   "source": [
    "# We'll use get_dummies to one hot encode everything after we're done"
   ]
  },
  {
   "cell_type": "markdown",
   "id": "fae82e00-31c7-4029-af91-33e06faf7a33",
   "metadata": {},
   "source": [
    "# Now onto occupations"
   ]
  },
  {
   "cell_type": "code",
   "execution_count": 243,
   "id": "924abca5-6bf1-4c07-9b3f-7e6ec5e9f978",
   "metadata": {},
   "outputs": [
    {
     "name": "stdout",
     "output_type": "stream",
     "text": [
      "                    occupation  Percent over 50k\n",
      " Prof-specialty           4140              44.9\n",
      " Craft-repair             4099              22.7\n",
      " Exec-managerial          4066              48.4\n",
      " Adm-clerical             3769              13.5\n",
      " Sales                    3650              26.9\n",
      " Other-service            3295               4.2\n",
      " Machine-op-inspct        2002              12.5\n",
      " ?                        1843              10.4\n",
      " Transport-moving         1597              20.0\n",
      " Handlers-cleaners        1370               6.3\n",
      " Farming-fishing           994              11.6\n",
      " Tech-support              928              30.5\n",
      " Protective-serv           649              32.5\n",
      " Priv-house-serv           149               0.7\n",
      " Armed-Forces                9              11.1\n"
     ]
    }
   ],
   "source": [
    "print(fetch_percent(data, 'occupation'))\n",
    "job_df = fetch_percent(data, 'occupation')\n",
    "wealthy_jobs = list(job_df[job_df['Percent over 50k'].between(24,100)].index)\n",
    "middle_jobs = list(job_df[job_df['Percent over 50k'].between(12,24)].index)\n",
    "poor_jobs = list(job_df[job_df['Percent over 50k'].between(0,12)].index)\n"
   ]
  },
  {
   "cell_type": "code",
   "execution_count": 244,
   "id": "2c96a6b8-4fa0-48dd-9921-3675a393a71d",
   "metadata": {},
   "outputs": [
    {
     "name": "stdout",
     "output_type": "stream",
     "text": [
      "                 occupation  Percent over 50k\n",
      "good-occupation       13433              39.5\n",
      "ok-occupation         11467              17.5\n",
      "bad-occupation         7660               6.9\n"
     ]
    }
   ],
   "source": [
    "data = df_replace(data, wealthy_jobs, replace_value='good-occupation')\n",
    "data = df_replace(data, middle_jobs, replace_value='ok-occupation')\n",
    "data = df_replace(data, poor_jobs, replace_value='bad-occupation')\n",
    "print(fetch_percent(data, 'occupation'))"
   ]
  },
  {
   "cell_type": "markdown",
   "id": "4e423dfb-7cf6-4228-9f0a-f0d8c7d09d0a",
   "metadata": {},
   "source": [
    "# Now marital status"
   ]
  },
  {
   "cell_type": "code",
   "execution_count": 245,
   "id": "182cbb37-ed59-43ac-ba6d-804af84bff8a",
   "metadata": {},
   "outputs": [
    {
     "name": "stdout",
     "output_type": "stream",
     "text": [
      "                        marital-status  Percent over 50k\n",
      " Married-civ-spouse              14976              44.7\n",
      " Never-married                   10682               4.6\n",
      " Divorced                         4443              10.4\n",
      " Separated                        1025               6.4\n",
      " Widowed                           993               8.6\n",
      " Married-spouse-absent             418               8.1\n",
      " Married-AF-spouse                  23              43.5\n"
     ]
    }
   ],
   "source": [
    "print(fetch_percent(data, 'marital-status'))\n",
    "Married = [' Married-civ-spouse', ' Married-AF-spouse']\n",
    "Not_married = [' Never-married', ' Divorced', ' Separated', ' Widowed', ' Married-spouse-absent']\n"
   ]
  },
  {
   "cell_type": "code",
   "execution_count": 246,
   "id": "3f4c1aec-0504-4cce-81e9-b9758dda54be",
   "metadata": {},
   "outputs": [
    {
     "name": "stdout",
     "output_type": "stream",
     "text": [
      "             marital-status  Percent over 50k\n",
      "Not Married           17561               6.5\n",
      "Married               14999              44.7\n"
     ]
    }
   ],
   "source": [
    "data = df_replace(data, Married, replace_value='Married')\n",
    "data = df_replace(data, Not_married, replace_value='Not Married')\n",
    "print(fetch_percent(data, 'marital-status'))"
   ]
  },
  {
   "cell_type": "code",
   "execution_count": 247,
   "id": "da0f78b3-2c6d-4c2e-a746-4aaf613dbd66",
   "metadata": {},
   "outputs": [
    {
     "name": "stdout",
     "output_type": "stream",
     "text": [
      "             marital-status  Percent over 50k\n",
      "Not Married           17561               6.5\n",
      "Married               14999              44.7\n"
     ]
    }
   ],
   "source": [
    "print(fetch_percent(data, 'marital-status'))"
   ]
  },
  {
   "cell_type": "markdown",
   "id": "7daa5a29-9fdc-4d01-8615-7ba95b6b8ec9",
   "metadata": {},
   "source": [
    "# Relationship should be similar\n"
   ]
  },
  {
   "cell_type": "code",
   "execution_count": 248,
   "id": "cd6f9896-60a2-43c0-a3f4-1593b6704404",
   "metadata": {},
   "outputs": [
    {
     "name": "stdout",
     "output_type": "stream",
     "text": [
      "                 relationship  Percent over 50k\n",
      " Husband                13193              44.9\n",
      " Not-in-family           8304              10.3\n",
      " Own-child               5068               1.3\n",
      " Unmarried               3446               6.3\n",
      " Wife                    1568              47.5\n",
      " Other-relative           981               3.8\n"
     ]
    }
   ],
   "source": [
    "print(fetch_percent(data, 'relationship'))\n",
    "married = [' Husband', ' Wife']\n",
    "not_married = [' Not-in-family', ' Own-child', ' Unmarried', ' Other-relative']\n"
   ]
  },
  {
   "cell_type": "code",
   "execution_count": 249,
   "id": "e8ca84de-f179-4f82-8938-6fd1b9f7a054",
   "metadata": {},
   "outputs": [
    {
     "name": "stdout",
     "output_type": "stream",
     "text": [
      "             relationship  Percent over 50k\n",
      "Not Married         17799               6.6\n",
      "Married             14761              45.1\n"
     ]
    }
   ],
   "source": [
    "data = df_replace(data, married, replace_value='Married')\n",
    "data = df_replace(data, not_married, replace_value='Not Married')\n",
    "print(fetch_percent(data, 'relationship'))"
   ]
  },
  {
   "cell_type": "markdown",
   "id": "cedf7181-cc5d-4fa9-ab40-6ebbfd2d54fa",
   "metadata": {},
   "source": [
    "# Based on this we will most likely end up just removing the relationship column"
   ]
  },
  {
   "cell_type": "code",
   "execution_count": 250,
   "id": "e8618b5e-9e6d-44fd-9672-0efb9d384704",
   "metadata": {},
   "outputs": [
    {
     "name": "stdout",
     "output_type": "stream",
     "text": [
      "               education  Percent over 50k\n",
      " HS-grad           10501              16.0\n",
      " Some-college       7291              19.0\n",
      " Bachelors          5354              41.5\n",
      " Masters            1723              55.7\n",
      " Assoc-voc          1382              26.1\n",
      " 11th               1175               5.1\n",
      " Assoc-acdm         1067              24.8\n",
      " 10th                933               6.6\n",
      " 7th-8th             646               6.2\n",
      " Prof-school         576              73.4\n",
      " 9th                 514               5.3\n",
      " 12th                433               7.6\n",
      " Doctorate           413              74.1\n",
      " 5th-6th             333               4.8\n",
      " 1st-4th             168               3.6\n",
      " Preschool            51               0.0\n"
     ]
    }
   ],
   "source": [
    "print(fetch_percent(data, 'education'))\n",
    "highly_educated = [' Doctorate', ' Prof-school', ' Masters']\n",
    "bachelors = [' Bachelors']\n",
    "assoc = [' Assoc-voc', ' Assoc-acdm']\n",
    "lt_assoc = [' HS-grad', ' Some-college', ' 11th', ' 10th', ' 7th-8th', ' 9th', ' 12th', ' 5th-6th', ' 1st-4th', ' Preschool']"
   ]
  },
  {
   "cell_type": "code",
   "execution_count": 251,
   "id": "a22d23a1-512e-4988-aebf-c7c4d4636eef",
   "metadata": {},
   "outputs": [
    {
     "name": "stdout",
     "output_type": "stream",
     "text": [
      "                 education  Percent over 50k\n",
      "no-college           22045              15.0\n",
      "bachelors             5354              41.5\n",
      "highly-educated       2712              62.2\n",
      "associates            2449              25.6\n"
     ]
    }
   ],
   "source": [
    "data = df_replace(data, highly_educated, replace_value='highly-educated')\n",
    "data = df_replace(data, bachelors, replace_value='bachelors')\n",
    "data = df_replace(data, assoc, replace_value='associates')\n",
    "data = df_replace(data, lt_assoc, replace_value='no-college')\n",
    "print(fetch_percent(data, 'education'))\n"
   ]
  },
  {
   "cell_type": "code",
   "execution_count": 252,
   "id": "cd48b3fb-e9f6-48d9-bed8-4ada66943a60",
   "metadata": {},
   "outputs": [
    {
     "name": "stdout",
     "output_type": "stream",
     "text": [
      "                      race  Percent over 50k\n",
      " White               27815              25.6\n",
      " Black                3124              12.4\n",
      " Asian-Pac-Islander   1039              26.6\n",
      " Amer-Indian-Eskimo    311              11.6\n",
      " Other                 271               9.2\n"
     ]
    }
   ],
   "source": [
    "print(fetch_percent(data, 'race'))\n",
    "white_asian = [' White', ' Asian-Pac-Islander']\n",
    "other = [' Black', ' Amer-Indian-Eskimo', ' Other']"
   ]
  },
  {
   "cell_type": "code",
   "execution_count": 253,
   "id": "d3d5acb6-e583-45f8-a095-9424a90e58e7",
   "metadata": {},
   "outputs": [
    {
     "name": "stdout",
     "output_type": "stream",
     "text": [
      "              race  Percent over 50k\n",
      "White-asian  28854              25.6\n",
      "other         3706              12.1\n"
     ]
    }
   ],
   "source": [
    "data = df_replace(data, white_asian, replace_value='White-asian')\n",
    "data = df_replace(data, other, replace_value='other')\n",
    "print(fetch_percent(data, 'race'))"
   ]
  },
  {
   "cell_type": "code",
   "execution_count": 254,
   "id": "e78aabd9-727f-46ac-b212-154a0267d3c1",
   "metadata": {},
   "outputs": [
    {
     "name": "stdout",
     "output_type": "stream",
     "text": [
      "                   workclass  Percent over 50k\n",
      " Private               22696              21.9\n",
      " Self-emp-not-inc       2541              28.5\n",
      " Local-gov              2093              29.5\n",
      "unknown                 1836              10.4\n",
      " State-gov              1297              27.2\n",
      " Self-emp-inc           1116              55.7\n",
      " Federal-gov             960              38.6\n",
      " Without-pay              14               0.0\n",
      " Never-worked              7               0.0\n"
     ]
    }
   ],
   "source": [
    "print(fetch_percent(data, 'workclass'))\n",
    "good_workclass = [' Self-emp-inc', ' Federal-gov']\n",
    "middle_workclass = [' Local-gov', ' Self-emp-not-inc', ' Private', ' State-gov']\n",
    "unknown = ['unknown']\n",
    "no_workclass = [' Without-pay', ' Never-worked']"
   ]
  },
  {
   "cell_type": "code",
   "execution_count": 255,
   "id": "09981289-fd6b-4384-a1f4-a358860afd30",
   "metadata": {},
   "outputs": [
    {
     "name": "stdout",
     "output_type": "stream",
     "text": [
      "                  workclass  Percent over 50k\n",
      "middle-workclass      28627              23.3\n",
      "good-workclass         2076              47.8\n",
      "unknown                1836              10.4\n",
      "neet                     21               0.0\n"
     ]
    }
   ],
   "source": [
    "data = df_replace(data,good_workclass, replace_value='good-workclass')\n",
    "data = df_replace(data, middle_workclass, replace_value='middle-workclass')\n",
    "data = df_replace(data, no_workclass, replace_value='neet')\n",
    "print(fetch_percent(data, 'workclass'))\n"
   ]
  },
  {
   "cell_type": "markdown",
   "id": "6373d182-32d3-47c4-84c9-b360441eebca",
   "metadata": {},
   "source": [
    "# We are now done transforming the categorical variables. We will now import the machine learning libraries we will use and do some normalization"
   ]
  },
  {
   "cell_type": "code",
   "execution_count": 256,
   "id": "f0a0071e-5ba1-48b5-9a7d-4ea73e91f035",
   "metadata": {},
   "outputs": [],
   "source": [
    "from sklearn.preprocessing import MinMaxScaler, StandardScaler\n",
    "from sklearn.ensemble import RandomForestClassifier\n",
    "from tensorflow import keras\n",
    "from keras import Sequential\n",
    "from keras.layers import LeakyReLU, Dense\n",
    "from keras import losses\n",
    "from tensorflow.keras.callbacks import EarlyStopping"
   ]
  },
  {
   "cell_type": "code",
   "execution_count": 257,
   "id": "289fa25b-a669-49ae-ac74-7a7753ad62f9",
   "metadata": {},
   "outputs": [],
   "source": [
    "# We will drop fnlwgt for now as it doesn't seem to be indicative of income\n",
    "# we might add education-num later, we will have to do some experiments\n",
    "cols_to_drop = ['fnlwgt', 'relationship']\n",
    "data = data.drop(cols_to_drop, axis=1)"
   ]
  },
  {
   "cell_type": "markdown",
   "id": "166cd9e3-1be9-4b54-9c05-093f747c71bd",
   "metadata": {},
   "source": [
    "# First we will try ordinal encoding workclass, education, and occupation. It might work or might not. We will come back later try not doing this"
   ]
  },
  {
   "cell_type": "code",
   "execution_count": 258,
   "id": "64c1cfbc-d0fe-42f6-9aed-5c9494205c24",
   "metadata": {},
   "outputs": [],
   "source": [
    "workclass_dict = {'neet': 0, 'unknown': 1, 'middle-workclass': 2, 'good-workclass': 3}\n",
    "education_dict = {'no-college': 0, 'associates':1,  'bachelors': 2, 'highly-educated': 3} \n",
    "occupation_dict = {'bad-occupation': 0, 'ok-occupation': 1, 'good-occupation': 2}"
   ]
  },
  {
   "cell_type": "code",
   "execution_count": 259,
   "id": "490a33c5-d8ea-48ef-872d-e266ebe691a2",
   "metadata": {},
   "outputs": [],
   "source": [
    "data['workclass'] = data['workclass'].map(workclass_dict)\n",
    "data['education'] = data['education'].map(education_dict)\n",
    "data['occupation'] = data['occupation'].map(occupation_dict)"
   ]
  },
  {
   "cell_type": "markdown",
   "id": "33509de6-fc96-453c-9b55-b89abe9c8d95",
   "metadata": {},
   "source": [
    "# We'll try minmax scaling first. we'll scale age, education num, capital gain, capital loss and hours per week"
   ]
  },
  {
   "cell_type": "code",
   "execution_count": 260,
   "id": "2c2e7585-d8cb-472b-a74f-41f1ba32c108",
   "metadata": {},
   "outputs": [],
   "source": [
    "cols_to_scale = ['Age','workclass', 'education', 'education-num', 'occupation', 'capital-gain', 'capital-loss', 'hours-per-week']\n",
    "std_scaler = StandardScaler()\n",
    "minmax_scaler = MinMaxScaler()\n",
    "data[cols_to_scale] = minmax_scaler.fit_transform(data[cols_to_scale])"
   ]
  },
  {
   "cell_type": "markdown",
   "id": "0cd9f5d3-74a0-4540-99d8-b339844dad73",
   "metadata": {},
   "source": [
    "# Since marital-status, race, and sex only have 2 values we can just use replace and have it be 0,1"
   ]
  },
  {
   "cell_type": "code",
   "execution_count": 261,
   "id": "a47dff6e-bc71-4235-a9f0-c6252783061c",
   "metadata": {},
   "outputs": [],
   "source": [
    "data['marital-status'].replace({'Not Married': 0, 'Married': 1}, inplace=True)\n",
    "data['race'].replace({'other': 0, 'White-asian': 1}, inplace=True)\n",
    "data['sex'].replace({' Female': 0, ' Male': 1}, inplace=True)"
   ]
  },
  {
   "cell_type": "code",
   "execution_count": 262,
   "id": "cf312658-e315-4c2d-9d66-da6ff369bd20",
   "metadata": {},
   "outputs": [],
   "source": [
    "# One hot encoding for native country\n",
    "data = pd.get_dummies(data, columns=['native-country'])"
   ]
  },
  {
   "cell_type": "code",
   "execution_count": 263,
   "id": "400d214b-4eff-414f-9d87-81259967ed71",
   "metadata": {},
   "outputs": [],
   "source": [
    "# make column names shorter\n",
    "col_dict = {'native-country_Foreign-middle': 'Foreign-middle', 'native-country_Foreign-poor': 'Foreign-poor', 'native-country_Foreign-wealthy': 'Foreign-wealthy', 'native-country_United-States': 'United-States'}\n",
    "data = data.rename(columns=col_dict)"
   ]
  },
  {
   "cell_type": "code",
   "execution_count": 264,
   "id": "b27671b9-15c5-4a54-8d3b-ab5793687e5b",
   "metadata": {},
   "outputs": [],
   "source": [
    "# make sure income is the last column again\n",
    "cols = list(data.columns)\n",
    "cols.remove('income')\n",
    "cols.append('income')\n",
    "data = data[cols]\n"
   ]
  },
  {
   "cell_type": "markdown",
   "id": "c0992f47-7f08-4d4d-9302-bedc67765802",
   "metadata": {},
   "source": [
    "# ok now we have to do all that transformation to the test data"
   ]
  },
  {
   "cell_type": "code",
   "execution_count": 265,
   "id": "60ad7d3d-219d-4170-9873-41235cfa8c1c",
   "metadata": {},
   "outputs": [],
   "source": [
    "test = test_df\n"
   ]
  },
  {
   "cell_type": "code",
   "execution_count": 266,
   "id": "02e1f0f2-934c-4d5f-80ad-e695baf836b4",
   "metadata": {},
   "outputs": [
    {
     "data": {
      "text/html": [
       "<div>\n",
       "<style scoped>\n",
       "    .dataframe tbody tr th:only-of-type {\n",
       "        vertical-align: middle;\n",
       "    }\n",
       "\n",
       "    .dataframe tbody tr th {\n",
       "        vertical-align: top;\n",
       "    }\n",
       "\n",
       "    .dataframe thead th {\n",
       "        text-align: right;\n",
       "    }\n",
       "</style>\n",
       "<table border=\"1\" class=\"dataframe\">\n",
       "  <thead>\n",
       "    <tr style=\"text-align: right;\">\n",
       "      <th></th>\n",
       "      <th>Age</th>\n",
       "      <th>workclass</th>\n",
       "      <th>fnlwgt</th>\n",
       "      <th>education</th>\n",
       "      <th>education-num</th>\n",
       "      <th>marital-status</th>\n",
       "      <th>occupation</th>\n",
       "      <th>relationship</th>\n",
       "      <th>race</th>\n",
       "      <th>sex</th>\n",
       "      <th>capital-gain</th>\n",
       "      <th>capital-loss</th>\n",
       "      <th>hours-per-week</th>\n",
       "      <th>native-country</th>\n",
       "      <th>income</th>\n",
       "    </tr>\n",
       "  </thead>\n",
       "  <tbody>\n",
       "    <tr>\n",
       "      <th>0</th>\n",
       "      <td>25</td>\n",
       "      <td>Private</td>\n",
       "      <td>226802</td>\n",
       "      <td>11th</td>\n",
       "      <td>7</td>\n",
       "      <td>Never-married</td>\n",
       "      <td>Machine-op-inspct</td>\n",
       "      <td>Own-child</td>\n",
       "      <td>Black</td>\n",
       "      <td>Male</td>\n",
       "      <td>0</td>\n",
       "      <td>0</td>\n",
       "      <td>40</td>\n",
       "      <td>United-States</td>\n",
       "      <td>0</td>\n",
       "    </tr>\n",
       "    <tr>\n",
       "      <th>1</th>\n",
       "      <td>38</td>\n",
       "      <td>Private</td>\n",
       "      <td>89814</td>\n",
       "      <td>HS-grad</td>\n",
       "      <td>9</td>\n",
       "      <td>Married-civ-spouse</td>\n",
       "      <td>Farming-fishing</td>\n",
       "      <td>Husband</td>\n",
       "      <td>White</td>\n",
       "      <td>Male</td>\n",
       "      <td>0</td>\n",
       "      <td>0</td>\n",
       "      <td>50</td>\n",
       "      <td>United-States</td>\n",
       "      <td>0</td>\n",
       "    </tr>\n",
       "    <tr>\n",
       "      <th>2</th>\n",
       "      <td>28</td>\n",
       "      <td>Local-gov</td>\n",
       "      <td>336951</td>\n",
       "      <td>Assoc-acdm</td>\n",
       "      <td>12</td>\n",
       "      <td>Married-civ-spouse</td>\n",
       "      <td>Protective-serv</td>\n",
       "      <td>Husband</td>\n",
       "      <td>White</td>\n",
       "      <td>Male</td>\n",
       "      <td>0</td>\n",
       "      <td>0</td>\n",
       "      <td>40</td>\n",
       "      <td>United-States</td>\n",
       "      <td>1</td>\n",
       "    </tr>\n",
       "    <tr>\n",
       "      <th>3</th>\n",
       "      <td>44</td>\n",
       "      <td>Private</td>\n",
       "      <td>160323</td>\n",
       "      <td>Some-college</td>\n",
       "      <td>10</td>\n",
       "      <td>Married-civ-spouse</td>\n",
       "      <td>Machine-op-inspct</td>\n",
       "      <td>Husband</td>\n",
       "      <td>Black</td>\n",
       "      <td>Male</td>\n",
       "      <td>7688</td>\n",
       "      <td>0</td>\n",
       "      <td>40</td>\n",
       "      <td>United-States</td>\n",
       "      <td>1</td>\n",
       "    </tr>\n",
       "    <tr>\n",
       "      <th>4</th>\n",
       "      <td>18</td>\n",
       "      <td>unknown</td>\n",
       "      <td>103497</td>\n",
       "      <td>Some-college</td>\n",
       "      <td>10</td>\n",
       "      <td>Never-married</td>\n",
       "      <td>?</td>\n",
       "      <td>Own-child</td>\n",
       "      <td>White</td>\n",
       "      <td>Female</td>\n",
       "      <td>0</td>\n",
       "      <td>0</td>\n",
       "      <td>30</td>\n",
       "      <td>United-States</td>\n",
       "      <td>0</td>\n",
       "    </tr>\n",
       "    <tr>\n",
       "      <th>...</th>\n",
       "      <td>...</td>\n",
       "      <td>...</td>\n",
       "      <td>...</td>\n",
       "      <td>...</td>\n",
       "      <td>...</td>\n",
       "      <td>...</td>\n",
       "      <td>...</td>\n",
       "      <td>...</td>\n",
       "      <td>...</td>\n",
       "      <td>...</td>\n",
       "      <td>...</td>\n",
       "      <td>...</td>\n",
       "      <td>...</td>\n",
       "      <td>...</td>\n",
       "      <td>...</td>\n",
       "    </tr>\n",
       "    <tr>\n",
       "      <th>16276</th>\n",
       "      <td>39</td>\n",
       "      <td>Private</td>\n",
       "      <td>215419</td>\n",
       "      <td>Bachelors</td>\n",
       "      <td>13</td>\n",
       "      <td>Divorced</td>\n",
       "      <td>Prof-specialty</td>\n",
       "      <td>Not-in-family</td>\n",
       "      <td>White</td>\n",
       "      <td>Female</td>\n",
       "      <td>0</td>\n",
       "      <td>0</td>\n",
       "      <td>36</td>\n",
       "      <td>United-States</td>\n",
       "      <td>0</td>\n",
       "    </tr>\n",
       "    <tr>\n",
       "      <th>16277</th>\n",
       "      <td>64</td>\n",
       "      <td>unknown</td>\n",
       "      <td>321403</td>\n",
       "      <td>HS-grad</td>\n",
       "      <td>9</td>\n",
       "      <td>Widowed</td>\n",
       "      <td>?</td>\n",
       "      <td>Other-relative</td>\n",
       "      <td>Black</td>\n",
       "      <td>Male</td>\n",
       "      <td>0</td>\n",
       "      <td>0</td>\n",
       "      <td>40</td>\n",
       "      <td>United-States</td>\n",
       "      <td>0</td>\n",
       "    </tr>\n",
       "    <tr>\n",
       "      <th>16278</th>\n",
       "      <td>38</td>\n",
       "      <td>Private</td>\n",
       "      <td>374983</td>\n",
       "      <td>Bachelors</td>\n",
       "      <td>13</td>\n",
       "      <td>Married-civ-spouse</td>\n",
       "      <td>Prof-specialty</td>\n",
       "      <td>Husband</td>\n",
       "      <td>White</td>\n",
       "      <td>Male</td>\n",
       "      <td>0</td>\n",
       "      <td>0</td>\n",
       "      <td>50</td>\n",
       "      <td>United-States</td>\n",
       "      <td>0</td>\n",
       "    </tr>\n",
       "    <tr>\n",
       "      <th>16279</th>\n",
       "      <td>44</td>\n",
       "      <td>Private</td>\n",
       "      <td>83891</td>\n",
       "      <td>Bachelors</td>\n",
       "      <td>13</td>\n",
       "      <td>Divorced</td>\n",
       "      <td>Adm-clerical</td>\n",
       "      <td>Own-child</td>\n",
       "      <td>Asian-Pac-Islander</td>\n",
       "      <td>Male</td>\n",
       "      <td>5455</td>\n",
       "      <td>0</td>\n",
       "      <td>40</td>\n",
       "      <td>United-States</td>\n",
       "      <td>0</td>\n",
       "    </tr>\n",
       "    <tr>\n",
       "      <th>16280</th>\n",
       "      <td>35</td>\n",
       "      <td>Self-emp-inc</td>\n",
       "      <td>182148</td>\n",
       "      <td>Bachelors</td>\n",
       "      <td>13</td>\n",
       "      <td>Married-civ-spouse</td>\n",
       "      <td>Exec-managerial</td>\n",
       "      <td>Husband</td>\n",
       "      <td>White</td>\n",
       "      <td>Male</td>\n",
       "      <td>0</td>\n",
       "      <td>0</td>\n",
       "      <td>60</td>\n",
       "      <td>United-States</td>\n",
       "      <td>1</td>\n",
       "    </tr>\n",
       "  </tbody>\n",
       "</table>\n",
       "<p>16281 rows × 15 columns</p>\n",
       "</div>"
      ],
      "text/plain": [
       "       Age      workclass  fnlwgt      education  education-num  \\\n",
       "0       25        Private  226802           11th              7   \n",
       "1       38        Private   89814        HS-grad              9   \n",
       "2       28      Local-gov  336951     Assoc-acdm             12   \n",
       "3       44        Private  160323   Some-college             10   \n",
       "4       18        unknown  103497   Some-college             10   \n",
       "...    ...            ...     ...            ...            ...   \n",
       "16276   39        Private  215419      Bachelors             13   \n",
       "16277   64        unknown  321403        HS-grad              9   \n",
       "16278   38        Private  374983      Bachelors             13   \n",
       "16279   44        Private   83891      Bachelors             13   \n",
       "16280   35   Self-emp-inc  182148      Bachelors             13   \n",
       "\n",
       "            marital-status          occupation     relationship  \\\n",
       "0            Never-married   Machine-op-inspct        Own-child   \n",
       "1       Married-civ-spouse     Farming-fishing          Husband   \n",
       "2       Married-civ-spouse     Protective-serv          Husband   \n",
       "3       Married-civ-spouse   Machine-op-inspct          Husband   \n",
       "4            Never-married                   ?        Own-child   \n",
       "...                    ...                 ...              ...   \n",
       "16276             Divorced      Prof-specialty    Not-in-family   \n",
       "16277              Widowed                   ?   Other-relative   \n",
       "16278   Married-civ-spouse      Prof-specialty          Husband   \n",
       "16279             Divorced        Adm-clerical        Own-child   \n",
       "16280   Married-civ-spouse     Exec-managerial          Husband   \n",
       "\n",
       "                      race      sex  capital-gain  capital-loss  \\\n",
       "0                    Black     Male             0             0   \n",
       "1                    White     Male             0             0   \n",
       "2                    White     Male             0             0   \n",
       "3                    Black     Male          7688             0   \n",
       "4                    White   Female             0             0   \n",
       "...                    ...      ...           ...           ...   \n",
       "16276                White   Female             0             0   \n",
       "16277                Black     Male             0             0   \n",
       "16278                White     Male             0             0   \n",
       "16279   Asian-Pac-Islander     Male          5455             0   \n",
       "16280                White     Male             0             0   \n",
       "\n",
       "       hours-per-week  native-country income  \n",
       "0                  40   United-States      0  \n",
       "1                  50   United-States      0  \n",
       "2                  40   United-States      1  \n",
       "3                  40   United-States      1  \n",
       "4                  30   United-States      0  \n",
       "...               ...             ...    ...  \n",
       "16276              36   United-States      0  \n",
       "16277              40   United-States      0  \n",
       "16278              50   United-States      0  \n",
       "16279              40   United-States      0  \n",
       "16280              60   United-States      1  \n",
       "\n",
       "[16281 rows x 15 columns]"
      ]
     },
     "execution_count": 266,
     "metadata": {},
     "output_type": "execute_result"
    }
   ],
   "source": [
    "test"
   ]
  },
  {
   "cell_type": "code",
   "execution_count": 267,
   "id": "1d94e2ea-592e-4702-b848-2262e881d148",
   "metadata": {},
   "outputs": [],
   "source": [
    "test = df_replace(test, wealthy_countries, replace_value='Foreign-wealthy')\n",
    "test = df_replace(test, middle_countries, replace_value='Foreign-middle')\n",
    "test = df_replace(test, poor_countries, replace_value='Foreign-poor')\n",
    "\n",
    "test = df_replace(test, married, replace_value='Married')\n",
    "test = df_replace(test, not_married, replace_value='Not Married')\n",
    "\n",
    "test = df_replace(test, Married, replace_value='Married')\n",
    "test = df_replace(test, Not_married, replace_value='Not Married')\n",
    "\n",
    "test = df_replace(test, good_workclass, replace_value='good-workclass')\n",
    "test = df_replace(test, middle_workclass, replace_value='middle-workclass')\n",
    "test = df_replace(test, no_workclass, replace_value='neet')\n",
    "\n",
    "test = df_replace(test, highly_educated, replace_value='highly-educated')\n",
    "test = df_replace(test, bachelors, replace_value='bachelors')\n",
    "test = df_replace(test, assoc, replace_value='associates')\n",
    "test = df_replace(test, lt_assoc, replace_value='no-college')\n",
    "\n",
    "test = df_replace(test, wealthy_jobs, replace_value='good-occupation')\n",
    "test = df_replace(test, middle_jobs, replace_value='ok-occupation')\n",
    "test = df_replace(test, poor_jobs, replace_value='bad-occupation')\n",
    "\n",
    "\n",
    "test = df_replace(test, white_asian, replace_value='White-asian')\n",
    "test = df_replace(test, other, replace_value='other')\n",
    "\n",
    "\n",
    "\n",
    "test['marital-status'].replace({'Not Married': 0, 'Married': 1}, inplace=True)\n",
    "test['race'].replace({'other': 0, 'White-asian': 1}, inplace=True)\n",
    "test['sex'].replace({' Female': 0, ' Male': 1}, inplace=True)\n",
    "\n",
    "\n",
    "workclass_dict = {'neet': 0, 'unknown': 1, 'middle-workclass': 2, 'good-workclass': 3}\n",
    "education_dict = {'no-college': 0, 'associates':1,  'bachelors': 2, 'highly-educated': 3} \n",
    "occupation_dict = {'bad-occupation': 0, 'ok-occupation': 1, 'good-occupation': 2}\n",
    "\n",
    "\n",
    "\n",
    "\n",
    "test['workclass'] = test['workclass'].map(workclass_dict)\n",
    "test['education'] = test['education'].map(education_dict)\n",
    "test['occupation'] = test['occupation'].map(occupation_dict)\n",
    "\n",
    "\n",
    "test[cols_to_scale] = minmax_scaler.transform(test[cols_to_scale])\n",
    "\n",
    "cols_to_drop = ['fnlwgt', 'relationship']\n",
    "test = test.drop(cols_to_drop, axis=1)"
   ]
  },
  {
   "cell_type": "code",
   "execution_count": 268,
   "id": "bd2b77d3-84d8-44b9-81ad-dfe2a1ad998b",
   "metadata": {},
   "outputs": [],
   "source": [
    "test = pd.get_dummies(test, columns=['native-country'])\n",
    "\n",
    "col_dict = {'native-country_Foreign-middle': 'Foreign-middle', 'native-country_Foreign-poor': 'Foreign-poor', 'native-country_Foreign-wealthy': 'Foreign-wealthy', 'native-country_ United-States': 'United-States'}\n",
    "test = test.rename(columns=col_dict)\n",
    "\n",
    "cols = list(test.columns)\n",
    "cols.remove('income')\n",
    "cols.append('income')\n",
    "test = test[cols]"
   ]
  },
  {
   "cell_type": "code",
   "execution_count": 269,
   "id": "7721fbce-1b40-43ad-90ce-ef87d9c1953f",
   "metadata": {},
   "outputs": [],
   "source": [
    "col_dict = {'native-country_Foreign-middle': 'Foreign-middle', 'native-country_Foreign-poor': 'Foreign-poor', 'native-country_Foreign-wealthy': 'Foreign-wealthy', 'native-country_ United-States': 'United-States'}\n",
    "test = test.rename(columns=col_dict)"
   ]
  },
  {
   "cell_type": "code",
   "execution_count": 270,
   "id": "3801ac22-d5da-4f11-a07a-c686186e4623",
   "metadata": {},
   "outputs": [],
   "source": [
    "y = data.pop('income')"
   ]
  },
  {
   "cell_type": "code",
   "execution_count": 271,
   "id": "95332069-83c9-461b-8b95-efb459b73490",
   "metadata": {},
   "outputs": [
    {
     "data": {
      "text/html": [
       "<style>#sk-container-id-9 {color: black;background-color: white;}#sk-container-id-9 pre{padding: 0;}#sk-container-id-9 div.sk-toggleable {background-color: white;}#sk-container-id-9 label.sk-toggleable__label {cursor: pointer;display: block;width: 100%;margin-bottom: 0;padding: 0.3em;box-sizing: border-box;text-align: center;}#sk-container-id-9 label.sk-toggleable__label-arrow:before {content: \"▸\";float: left;margin-right: 0.25em;color: #696969;}#sk-container-id-9 label.sk-toggleable__label-arrow:hover:before {color: black;}#sk-container-id-9 div.sk-estimator:hover label.sk-toggleable__label-arrow:before {color: black;}#sk-container-id-9 div.sk-toggleable__content {max-height: 0;max-width: 0;overflow: hidden;text-align: left;background-color: #f0f8ff;}#sk-container-id-9 div.sk-toggleable__content pre {margin: 0.2em;color: black;border-radius: 0.25em;background-color: #f0f8ff;}#sk-container-id-9 input.sk-toggleable__control:checked~div.sk-toggleable__content {max-height: 200px;max-width: 100%;overflow: auto;}#sk-container-id-9 input.sk-toggleable__control:checked~label.sk-toggleable__label-arrow:before {content: \"▾\";}#sk-container-id-9 div.sk-estimator input.sk-toggleable__control:checked~label.sk-toggleable__label {background-color: #d4ebff;}#sk-container-id-9 div.sk-label input.sk-toggleable__control:checked~label.sk-toggleable__label {background-color: #d4ebff;}#sk-container-id-9 input.sk-hidden--visually {border: 0;clip: rect(1px 1px 1px 1px);clip: rect(1px, 1px, 1px, 1px);height: 1px;margin: -1px;overflow: hidden;padding: 0;position: absolute;width: 1px;}#sk-container-id-9 div.sk-estimator {font-family: monospace;background-color: #f0f8ff;border: 1px dotted black;border-radius: 0.25em;box-sizing: border-box;margin-bottom: 0.5em;}#sk-container-id-9 div.sk-estimator:hover {background-color: #d4ebff;}#sk-container-id-9 div.sk-parallel-item::after {content: \"\";width: 100%;border-bottom: 1px solid gray;flex-grow: 1;}#sk-container-id-9 div.sk-label:hover label.sk-toggleable__label {background-color: #d4ebff;}#sk-container-id-9 div.sk-serial::before {content: \"\";position: absolute;border-left: 1px solid gray;box-sizing: border-box;top: 0;bottom: 0;left: 50%;z-index: 0;}#sk-container-id-9 div.sk-serial {display: flex;flex-direction: column;align-items: center;background-color: white;padding-right: 0.2em;padding-left: 0.2em;position: relative;}#sk-container-id-9 div.sk-item {position: relative;z-index: 1;}#sk-container-id-9 div.sk-parallel {display: flex;align-items: stretch;justify-content: center;background-color: white;position: relative;}#sk-container-id-9 div.sk-item::before, #sk-container-id-9 div.sk-parallel-item::before {content: \"\";position: absolute;border-left: 1px solid gray;box-sizing: border-box;top: 0;bottom: 0;left: 50%;z-index: -1;}#sk-container-id-9 div.sk-parallel-item {display: flex;flex-direction: column;z-index: 1;position: relative;background-color: white;}#sk-container-id-9 div.sk-parallel-item:first-child::after {align-self: flex-end;width: 50%;}#sk-container-id-9 div.sk-parallel-item:last-child::after {align-self: flex-start;width: 50%;}#sk-container-id-9 div.sk-parallel-item:only-child::after {width: 0;}#sk-container-id-9 div.sk-dashed-wrapped {border: 1px dashed gray;margin: 0 0.4em 0.5em 0.4em;box-sizing: border-box;padding-bottom: 0.4em;background-color: white;}#sk-container-id-9 div.sk-label label {font-family: monospace;font-weight: bold;display: inline-block;line-height: 1.2em;}#sk-container-id-9 div.sk-label-container {text-align: center;}#sk-container-id-9 div.sk-container {/* jupyter's `normalize.less` sets `[hidden] { display: none; }` but bootstrap.min.css set `[hidden] { display: none !important; }` so we also need the `!important` here to be able to override the default hidden behavior on the sphinx rendered scikit-learn.org. See: https://github.com/scikit-learn/scikit-learn/issues/21755 */display: inline-block !important;position: relative;}#sk-container-id-9 div.sk-text-repr-fallback {display: none;}</style><div id=\"sk-container-id-9\" class=\"sk-top-container\"><div class=\"sk-text-repr-fallback\"><pre>RandomForestClassifier(max_leaf_nodes=500, random_state=0)</pre><b>In a Jupyter environment, please rerun this cell to show the HTML representation or trust the notebook. <br />On GitHub, the HTML representation is unable to render, please try loading this page with nbviewer.org.</b></div><div class=\"sk-container\" hidden><div class=\"sk-item\"><div class=\"sk-estimator sk-toggleable\"><input class=\"sk-toggleable__control sk-hidden--visually\" id=\"sk-estimator-id-9\" type=\"checkbox\" checked><label for=\"sk-estimator-id-9\" class=\"sk-toggleable__label sk-toggleable__label-arrow\">RandomForestClassifier</label><div class=\"sk-toggleable__content\"><pre>RandomForestClassifier(max_leaf_nodes=500, random_state=0)</pre></div></div></div></div></div>"
      ],
      "text/plain": [
       "RandomForestClassifier(max_leaf_nodes=500, random_state=0)"
      ]
     },
     "execution_count": 271,
     "metadata": {},
     "output_type": "execute_result"
    }
   ],
   "source": [
    "from sklearn.metrics import accuracy_score\n",
    "clf = RandomForestClassifier(max_leaf_nodes=500,random_state=0)\n",
    "X = data\n",
    "clf.fit(X, y)"
   ]
  },
  {
   "cell_type": "code",
   "execution_count": 272,
   "id": "773c3f8f-9588-4a36-82c3-053f933164cb",
   "metadata": {},
   "outputs": [],
   "source": [
    "y_true = test.pop('income')"
   ]
  },
  {
   "cell_type": "code",
   "execution_count": 273,
   "id": "bdfdafe7-0653-45aa-8631-d02006a137bb",
   "metadata": {},
   "outputs": [],
   "source": [
    "y_pred = clf.predict(test)\n",
    "y_true = np.asarray(y_true, dtype=int)"
   ]
  },
  {
   "cell_type": "code",
   "execution_count": 274,
   "id": "33f85743-e7a1-434b-be59-299c271f157e",
   "metadata": {},
   "outputs": [
    {
     "data": {
      "text/plain": [
       "0.8544315459738345"
      ]
     },
     "execution_count": 274,
     "metadata": {},
     "output_type": "execute_result"
    }
   ],
   "source": [
    "accuracy_score(y_true, y_pred)"
   ]
  },
  {
   "cell_type": "markdown",
   "id": "1053ad4a-3e30-42f2-b15b-ca0f8535f4f5",
   "metadata": {},
   "source": [
    "# Final accuracy score of model is 85.4%. Now we will compare this to a tensorflow model"
   ]
  },
  {
   "cell_type": "code",
   "execution_count": 275,
   "id": "42a1c498-36d9-4bdc-af96-3a200cf0304d",
   "metadata": {},
   "outputs": [],
   "source": [
    "from sklearn.model_selection import train_test_split\n",
    "X_train, X_val, y_train, y_val = train_test_split(X, y, test_size=.2, random_state=42)"
   ]
  },
  {
   "cell_type": "code",
   "execution_count": 276,
   "id": "2c26a4b7-2bfd-4d8a-8adf-3c6392e0e153",
   "metadata": {},
   "outputs": [
    {
     "data": {
      "text/plain": [
       "15"
      ]
     },
     "execution_count": 276,
     "metadata": {},
     "output_type": "execute_result"
    }
   ],
   "source": [
    "X.shape[1]"
   ]
  },
  {
   "cell_type": "code",
   "execution_count": 277,
   "id": "4252d843-1e32-481d-823f-13cb882c05c5",
   "metadata": {},
   "outputs": [],
   "source": [
    "early_stopping = EarlyStopping(\n",
    "    monitor='val_loss',\n",
    "    patience=5,\n",
    "    restore_best_weights=True)"
   ]
  },
  {
   "cell_type": "code",
   "execution_count": 278,
   "id": "ba0021d0-e127-4297-a0a7-ccf8f10778a2",
   "metadata": {},
   "outputs": [],
   "source": [
    "model = keras.Sequential()\n",
    "model.add(Dense(units=128, input_dim=X.shape[1], activation='relu'))\n",
    "model.add(Dense(units=1, activation='sigmoid'))\n",
    "model.compile(loss='binary_crossentropy', optimizer='adam', metrics=['accuracy'])"
   ]
  },
  {
   "cell_type": "code",
   "execution_count": 279,
   "id": "a6c273df-ea12-4f9b-8fc7-9c6f0f5ef33a",
   "metadata": {},
   "outputs": [
    {
     "name": "stdout",
     "output_type": "stream",
     "text": [
      "Epoch 1/30\n",
      "814/814 [==============================] - 4s 5ms/step - loss: 0.3908 - accuracy: 0.8212 - val_loss: 0.3546 - val_accuracy: 0.8311\n",
      "Epoch 2/30\n",
      "814/814 [==============================] - 3s 3ms/step - loss: 0.3417 - accuracy: 0.8400 - val_loss: 0.3407 - val_accuracy: 0.8385\n",
      "Epoch 3/30\n",
      "814/814 [==============================] - 3s 4ms/step - loss: 0.3314 - accuracy: 0.8455 - val_loss: 0.3336 - val_accuracy: 0.8455\n",
      "Epoch 4/30\n",
      "814/814 [==============================] - 3s 4ms/step - loss: 0.3259 - accuracy: 0.8470 - val_loss: 0.3290 - val_accuracy: 0.8484\n",
      "Epoch 5/30\n",
      "814/814 [==============================] - 3s 4ms/step - loss: 0.3220 - accuracy: 0.8504 - val_loss: 0.3251 - val_accuracy: 0.8486\n",
      "Epoch 6/30\n",
      "814/814 [==============================] - 3s 3ms/step - loss: 0.3205 - accuracy: 0.8491 - val_loss: 0.3240 - val_accuracy: 0.8503\n",
      "Epoch 7/30\n",
      "814/814 [==============================] - 3s 4ms/step - loss: 0.3186 - accuracy: 0.8519 - val_loss: 0.3219 - val_accuracy: 0.8486\n",
      "Epoch 8/30\n",
      "814/814 [==============================] - 3s 4ms/step - loss: 0.3180 - accuracy: 0.8515 - val_loss: 0.3220 - val_accuracy: 0.8487\n",
      "Epoch 9/30\n",
      "814/814 [==============================] - 3s 3ms/step - loss: 0.3172 - accuracy: 0.8514 - val_loss: 0.3326 - val_accuracy: 0.8418\n",
      "Epoch 10/30\n",
      "814/814 [==============================] - 3s 3ms/step - loss: 0.3155 - accuracy: 0.8523 - val_loss: 0.3231 - val_accuracy: 0.8481\n",
      "Epoch 11/30\n",
      "814/814 [==============================] - 3s 3ms/step - loss: 0.3153 - accuracy: 0.8521 - val_loss: 0.3286 - val_accuracy: 0.8477\n",
      "Epoch 12/30\n",
      "814/814 [==============================] - 3s 4ms/step - loss: 0.3146 - accuracy: 0.8523 - val_loss: 0.3252 - val_accuracy: 0.8492\n"
     ]
    }
   ],
   "source": [
    "history = model.fit(X_train, y_train, validation_data=(X_val, y_val), epochs=30, callbacks=[early_stopping]) "
   ]
  },
  {
   "cell_type": "code",
   "execution_count": 280,
   "id": "cbe365b4-2fe9-4323-b3ef-0a225cde6ba1",
   "metadata": {},
   "outputs": [
    {
     "data": {
      "image/png": "[encoded data removed]",
      "text/plain": [
       "<Figure size 640x480 with 1 Axes>"
      ]
     },
     "metadata": {},
     "output_type": "display_data"
    }
   ],
   "source": [
    "history_df = pd.DataFrame(history.history)\n",
    "history_df.loc[:, ['loss', 'val_loss']].plot()\n",
    "plt.xlabel(\"Epoch\")\n",
    "plt.ylabel(\"Loss\")\n",
    "plt.show()"
   ]
  },
  {
   "cell_type": "code",
   "execution_count": 281,
   "id": "3b6b788c-071e-41cd-b3ed-8db13dbad6ef",
   "metadata": {},
   "outputs": [
    {
     "data": {
      "image/png": "[encoded data removed]",
      "text/plain": [
       "<Figure size 640x480 with 1 Axes>"
      ]
     },
     "metadata": {},
     "output_type": "display_data"
    }
   ],
   "source": [
    "history_df.loc[:, ['accuracy', 'val_accuracy']].plot()\n",
    "plt.xlabel(\"Epoch\")\n",
    "plt.ylabel(\"Accuracy\")\n",
    "plt.show()"
   ]
  },
  {
   "cell_type": "code",
   "execution_count": 282,
   "id": "d9522802-a417-489d-aaf3-6f95fa4d88bb",
   "metadata": {},
   "outputs": [
    {
     "name": "stdout",
     "output_type": "stream",
     "text": [
      "509/509 [==============================] - 2s 3ms/step - loss: 0.3325 - accuracy: 0.8415\n"
     ]
    },
    {
     "data": {
      "text/plain": [
       "[0.3324643075466156, 0.8414784073829651]"
      ]
     },
     "execution_count": 282,
     "metadata": {},
     "output_type": "execute_result"
    }
   ],
   "source": [
    "model.evaluate(test,y_true)"
   ]
  },
  {
   "cell_type": "markdown",
   "id": "fa659c98-9b0d-4602-a5dc-a6d5ceed32f3",
   "metadata": {},
   "source": [
    "# Tensorflow model achieves an 84.2% accuracy score on the test data, around 1% lower than the random forest model"
   ]
  },
  {
   "cell_type": "code",
   "execution_count": null,
   "id": "f7693da1-4e77-4fd8-83e2-834bcf1b14ab",
   "metadata": {},
   "outputs": [],
   "source": []
  }
 ],
 "metadata": {
  "kernelspec": {
   "display_name": "Python 3 (ipykernel)",
   "language": "python",
   "name": "python3"
  },
  "language_info": {
   "codemirror_mode": {
    "name": "ipython",
    "version": 3
   },
   "file_extension": ".py",
   "mimetype": "text/x-python",
   "name": "python",
   "nbconvert_exporter": "python",
   "pygments_lexer": "ipython3",
   "version": "3.10.8"
  }
 },
 "nbformat": 4,
 "nbformat_minor": 5
}
